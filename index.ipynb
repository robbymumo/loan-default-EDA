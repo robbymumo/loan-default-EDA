{
 "cells": [
  {
   "cell_type": "markdown",
   "metadata": {},
   "source": []
  },
  {
   "cell_type": "markdown",
   "metadata": {},
   "source": [
    "## EDA \n",
    "### Section 1: Summary Statistics and Distributions:\n",
    "\n",
    "#### 1. Calculate basic summary statistics \n",
    "(mean, median, mode, standard deviation) for numerical columns like loan_amnt, annual_inc, etc.\n",
    "Create histograms and box plots to visualize the distribution of loan amounts, annual income, and other key variables.\n",
    "Calculate and visualize the percentage of loans that were fully repaid (loan_status) versus those that defaulted.\n",
    "#### 2. Categorical Variables Analysis:\n",
    "Explore the distribution of categorical variables like home_ownership, purpose, and verification_status.\n",
    "Calculate the count and percentage of loans for each category within these variables.\n",
    "Visualize these distributions using bar plots or pie charts.\n",
    "\n",
    "#### 3. Time-Series Analysis:\n",
    "Convert date columns (issue_d, last_pymnt_d, etc.) to datetime objects.\n",
    "Create a time-series plot of loan issuance over time to identify trends.\n",
    "Analyze loan performance over time, such as the percentage of loans that default or are paid off.\n",
    "\n",
    "### Section 2: Advanced and Interesting EDA Activities:\n",
    "#### 1. Loan Default Analysis by Features:\n",
    "\n",
    "Perform a deeper analysis of loan defaults by exploring relationships between default rates and features like int_rate, emp_length, dti, and annual_inc.\n",
    "Use statistical tests or visualizations to identify significant differences in default rates among different groups.\n",
    "\n",
    "#### 2. Feature Engineering and Correlation Analysis:\n",
    "Create new features or transformations based on domain knowledge, such as debt-to-income ratio (dti) or loan-to-income ratio.\n",
    "Compute correlations between features and the target variable (repay_fail) to identify which features are most influential in loan repayment.\n",
    "\n",
    "#### 3. Geospatial Analysis:\n",
    "Utilize geographical information such as zip_code and addr_state to perform geospatial analysis.\n",
    "Visualize loan distribution and loan performance on a map to identify geographic trends and hotspots.\n",
    "Analyze whether the location has an impact on loan defaults or interest rates."
   ]
  },
  {
   "cell_type": "markdown",
   "metadata": {},
   "source": [
    "IMPORTING LIBRARIES"
   ]
  },
  {
   "cell_type": "code",
   "execution_count": 214,
   "metadata": {},
   "outputs": [],
   "source": [
    "import pandas as pd\n",
    "import matplotlib.pyplot as plt"
   ]
  },
  {
   "cell_type": "markdown",
   "metadata": {},
   "source": [
    "LOADING DATASET"
   ]
  },
  {
   "cell_type": "code",
   "execution_count": 215,
   "metadata": {},
   "outputs": [],
   "source": [
    "try:\n",
    "    df = pd.read_csv('data\\data.csv', encoding='iso-8859-1')\n",
    "except Exception as e:\n",
    "    print(f\"An error occurred while reading the CSV file: {e}\")\n"
   ]
  },
  {
   "cell_type": "markdown",
   "metadata": {},
   "source": [
    "PREVIEWING DATASET"
   ]
  },
  {
   "cell_type": "code",
   "execution_count": 216,
   "metadata": {},
   "outputs": [
    {
     "data": {
      "text/html": [
       "<div>\n",
       "<style scoped>\n",
       "    .dataframe tbody tr th:only-of-type {\n",
       "        vertical-align: middle;\n",
       "    }\n",
       "\n",
       "    .dataframe tbody tr th {\n",
       "        vertical-align: top;\n",
       "    }\n",
       "\n",
       "    .dataframe thead th {\n",
       "        text-align: right;\n",
       "    }\n",
       "</style>\n",
       "<table border=\"1\" class=\"dataframe\">\n",
       "  <thead>\n",
       "    <tr style=\"text-align: right;\">\n",
       "      <th></th>\n",
       "      <th>Unnamed: 0</th>\n",
       "      <th>id</th>\n",
       "      <th>member_id</th>\n",
       "      <th>loan_amnt</th>\n",
       "      <th>funded_amnt</th>\n",
       "      <th>funded_amnt_inv</th>\n",
       "      <th>term</th>\n",
       "      <th>int_rate</th>\n",
       "      <th>installment</th>\n",
       "      <th>emp_length</th>\n",
       "      <th>home_ownership</th>\n",
       "      <th>annual_inc</th>\n",
       "      <th>verification_status</th>\n",
       "      <th>issue_d</th>\n",
       "      <th>loan_status</th>\n",
       "      <th>purpose</th>\n",
       "      <th>zip_code</th>\n",
       "      <th>addr_state</th>\n",
       "      <th>dti</th>\n",
       "      <th>delinq_2yrs</th>\n",
       "      <th>earliest_cr_line</th>\n",
       "      <th>inq_last_6mths</th>\n",
       "      <th>mths_since_last_delinq</th>\n",
       "      <th>open_acc</th>\n",
       "      <th>pub_rec</th>\n",
       "      <th>revol_bal</th>\n",
       "      <th>revol_util</th>\n",
       "      <th>total_acc</th>\n",
       "      <th>total_pymnt</th>\n",
       "      <th>total_pymnt_inv</th>\n",
       "      <th>total_rec_prncp</th>\n",
       "      <th>total_rec_int</th>\n",
       "      <th>last_pymnt_d</th>\n",
       "      <th>last_pymnt_amnt</th>\n",
       "      <th>next_pymnt_d</th>\n",
       "      <th>last_credit_pull_d</th>\n",
       "      <th>repay_fail</th>\n",
       "    </tr>\n",
       "  </thead>\n",
       "  <tbody>\n",
       "    <tr>\n",
       "      <th>0</th>\n",
       "      <td>2</td>\n",
       "      <td>2</td>\n",
       "      <td>2</td>\n",
       "      <td>0.0</td>\n",
       "      <td>0.0</td>\n",
       "      <td>0.0</td>\n",
       "      <td>36 months</td>\n",
       "      <td>0.00</td>\n",
       "      <td>0.00</td>\n",
       "      <td>&lt; 1 year</td>\n",
       "      <td>RENT</td>\n",
       "      <td>0.0</td>\n",
       "      <td>Not Verified</td>\n",
       "      <td>Dec-99</td>\n",
       "      <td>Charged Off</td>\n",
       "      <td>major_purchase</td>\n",
       "      <td>000xx</td>\n",
       "      <td>ZZ</td>\n",
       "      <td>0.00</td>\n",
       "      <td>0.0</td>\n",
       "      <td>Jan-01</td>\n",
       "      <td>0.0</td>\n",
       "      <td>NaN</td>\n",
       "      <td>0.0</td>\n",
       "      <td>0.0</td>\n",
       "      <td>0.0</td>\n",
       "      <td>0.00%</td>\n",
       "      <td>1.0</td>\n",
       "      <td>0.000000</td>\n",
       "      <td>0.00</td>\n",
       "      <td>0.00</td>\n",
       "      <td>0.00</td>\n",
       "      <td>Jan-07</td>\n",
       "      <td>0.00</td>\n",
       "      <td>Jan-07</td>\n",
       "      <td>Jan-07</td>\n",
       "      <td>1</td>\n",
       "    </tr>\n",
       "    <tr>\n",
       "      <th>1</th>\n",
       "      <td>3</td>\n",
       "      <td>545583</td>\n",
       "      <td>703644</td>\n",
       "      <td>2500.0</td>\n",
       "      <td>2500.0</td>\n",
       "      <td>2500.0</td>\n",
       "      <td>36 months</td>\n",
       "      <td>13.98</td>\n",
       "      <td>85.42</td>\n",
       "      <td>4 years</td>\n",
       "      <td>RENT</td>\n",
       "      <td>20004.0</td>\n",
       "      <td>Not Verified</td>\n",
       "      <td>Jul-10</td>\n",
       "      <td>Does not meet the credit policy. Status:Fully ...</td>\n",
       "      <td>other</td>\n",
       "      <td>487xx</td>\n",
       "      <td>MI</td>\n",
       "      <td>19.86</td>\n",
       "      <td>0.0</td>\n",
       "      <td>Aug-05</td>\n",
       "      <td>5.0</td>\n",
       "      <td>NaN</td>\n",
       "      <td>7.0</td>\n",
       "      <td>0.0</td>\n",
       "      <td>981.0</td>\n",
       "      <td>21.30%</td>\n",
       "      <td>10.0</td>\n",
       "      <td>3075.291779</td>\n",
       "      <td>3075.29</td>\n",
       "      <td>2500.00</td>\n",
       "      <td>575.29</td>\n",
       "      <td>Jul-13</td>\n",
       "      <td>90.85</td>\n",
       "      <td>Aug-13</td>\n",
       "      <td>Jun-16</td>\n",
       "      <td>0</td>\n",
       "    </tr>\n",
       "    <tr>\n",
       "      <th>2</th>\n",
       "      <td>4</td>\n",
       "      <td>532101</td>\n",
       "      <td>687836</td>\n",
       "      <td>5000.0</td>\n",
       "      <td>5000.0</td>\n",
       "      <td>5000.0</td>\n",
       "      <td>36 months</td>\n",
       "      <td>15.95</td>\n",
       "      <td>175.67</td>\n",
       "      <td>4 years</td>\n",
       "      <td>RENT</td>\n",
       "      <td>59000.0</td>\n",
       "      <td>Not Verified</td>\n",
       "      <td>Jun-10</td>\n",
       "      <td>Charged Off</td>\n",
       "      <td>debt_consolidation</td>\n",
       "      <td>115xx</td>\n",
       "      <td>NY</td>\n",
       "      <td>19.57</td>\n",
       "      <td>0.0</td>\n",
       "      <td>Apr-94</td>\n",
       "      <td>1.0</td>\n",
       "      <td>59.0</td>\n",
       "      <td>7.0</td>\n",
       "      <td>0.0</td>\n",
       "      <td>18773.0</td>\n",
       "      <td>99.90%</td>\n",
       "      <td>15.0</td>\n",
       "      <td>2948.760000</td>\n",
       "      <td>2948.76</td>\n",
       "      <td>1909.02</td>\n",
       "      <td>873.81</td>\n",
       "      <td>Nov-11</td>\n",
       "      <td>175.67</td>\n",
       "      <td>NaN</td>\n",
       "      <td>Mar-12</td>\n",
       "      <td>1</td>\n",
       "    </tr>\n",
       "  </tbody>\n",
       "</table>\n",
       "</div>"
      ],
      "text/plain": [
       "   Unnamed: 0      id  member_id  loan_amnt  funded_amnt  funded_amnt_inv  \\\n",
       "0           2       2          2        0.0          0.0              0.0   \n",
       "1           3  545583     703644     2500.0       2500.0           2500.0   \n",
       "2           4  532101     687836     5000.0       5000.0           5000.0   \n",
       "\n",
       "        term  int_rate  installment emp_length home_ownership  annual_inc  \\\n",
       "0  36 months      0.00         0.00   < 1 year           RENT         0.0   \n",
       "1  36 months     13.98        85.42    4 years           RENT     20004.0   \n",
       "2  36 months     15.95       175.67    4 years           RENT     59000.0   \n",
       "\n",
       "  verification_status issue_d  \\\n",
       "0        Not Verified  Dec-99   \n",
       "1        Not Verified  Jul-10   \n",
       "2        Not Verified  Jun-10   \n",
       "\n",
       "                                         loan_status             purpose  \\\n",
       "0                                        Charged Off      major_purchase   \n",
       "1  Does not meet the credit policy. Status:Fully ...               other   \n",
       "2                                        Charged Off  debt_consolidation   \n",
       "\n",
       "  zip_code addr_state    dti  delinq_2yrs earliest_cr_line  inq_last_6mths  \\\n",
       "0    000xx         ZZ   0.00          0.0           Jan-01             0.0   \n",
       "1    487xx         MI  19.86          0.0           Aug-05             5.0   \n",
       "2    115xx         NY  19.57          0.0           Apr-94             1.0   \n",
       "\n",
       "   mths_since_last_delinq  open_acc  pub_rec  revol_bal revol_util  total_acc  \\\n",
       "0                     NaN       0.0      0.0        0.0    0.00%        1.0   \n",
       "1                     NaN       7.0      0.0      981.0     21.30%       10.0   \n",
       "2                    59.0       7.0      0.0    18773.0     99.90%       15.0   \n",
       "\n",
       "   total_pymnt  total_pymnt_inv  total_rec_prncp  total_rec_int last_pymnt_d  \\\n",
       "0     0.000000             0.00             0.00           0.00       Jan-07   \n",
       "1  3075.291779          3075.29          2500.00         575.29       Jul-13   \n",
       "2  2948.760000          2948.76          1909.02         873.81       Nov-11   \n",
       "\n",
       "   last_pymnt_amnt next_pymnt_d last_credit_pull_d  repay_fail  \n",
       "0             0.00       Jan-07             Jan-07           1  \n",
       "1            90.85       Aug-13             Jun-16           0  \n",
       "2           175.67          NaN             Mar-12           1  "
      ]
     },
     "execution_count": 216,
     "metadata": {},
     "output_type": "execute_result"
    }
   ],
   "source": [
    "pd.set_option('display.max_columns', None) # This ensures that jupyter notebook shows all columns \n",
    "df.head(3)"
   ]
  },
  {
   "cell_type": "code",
   "execution_count": 217,
   "metadata": {},
   "outputs": [
    {
     "data": {
      "text/html": [
       "<div>\n",
       "<style scoped>\n",
       "    .dataframe tbody tr th:only-of-type {\n",
       "        vertical-align: middle;\n",
       "    }\n",
       "\n",
       "    .dataframe tbody tr th {\n",
       "        vertical-align: top;\n",
       "    }\n",
       "\n",
       "    .dataframe thead th {\n",
       "        text-align: right;\n",
       "    }\n",
       "</style>\n",
       "<table border=\"1\" class=\"dataframe\">\n",
       "  <thead>\n",
       "    <tr style=\"text-align: right;\">\n",
       "      <th></th>\n",
       "      <th>Unnamed: 0</th>\n",
       "      <th>id</th>\n",
       "      <th>member_id</th>\n",
       "      <th>loan_amnt</th>\n",
       "      <th>funded_amnt</th>\n",
       "      <th>funded_amnt_inv</th>\n",
       "      <th>term</th>\n",
       "      <th>int_rate</th>\n",
       "      <th>installment</th>\n",
       "      <th>emp_length</th>\n",
       "      <th>home_ownership</th>\n",
       "      <th>annual_inc</th>\n",
       "      <th>verification_status</th>\n",
       "      <th>issue_d</th>\n",
       "      <th>loan_status</th>\n",
       "      <th>purpose</th>\n",
       "      <th>zip_code</th>\n",
       "      <th>addr_state</th>\n",
       "      <th>dti</th>\n",
       "      <th>delinq_2yrs</th>\n",
       "      <th>earliest_cr_line</th>\n",
       "      <th>inq_last_6mths</th>\n",
       "      <th>mths_since_last_delinq</th>\n",
       "      <th>open_acc</th>\n",
       "      <th>pub_rec</th>\n",
       "      <th>revol_bal</th>\n",
       "      <th>revol_util</th>\n",
       "      <th>total_acc</th>\n",
       "      <th>total_pymnt</th>\n",
       "      <th>total_pymnt_inv</th>\n",
       "      <th>total_rec_prncp</th>\n",
       "      <th>total_rec_int</th>\n",
       "      <th>last_pymnt_d</th>\n",
       "      <th>last_pymnt_amnt</th>\n",
       "      <th>next_pymnt_d</th>\n",
       "      <th>last_credit_pull_d</th>\n",
       "      <th>repay_fail</th>\n",
       "    </tr>\n",
       "  </thead>\n",
       "  <tbody>\n",
       "    <tr>\n",
       "      <th>38477</th>\n",
       "      <td>38478</td>\n",
       "      <td>519553</td>\n",
       "      <td>671637</td>\n",
       "      <td>16000.0</td>\n",
       "      <td>10550.0</td>\n",
       "      <td>10531.35818</td>\n",
       "      <td>60 months</td>\n",
       "      <td>14.96</td>\n",
       "      <td>250.77</td>\n",
       "      <td>10+ years</td>\n",
       "      <td>MORTGAGE</td>\n",
       "      <td>95088.0</td>\n",
       "      <td>Source Verified</td>\n",
       "      <td>May-10</td>\n",
       "      <td>Fully Paid</td>\n",
       "      <td>debt_consolidation</td>\n",
       "      <td>073xx</td>\n",
       "      <td>NJ</td>\n",
       "      <td>10.63</td>\n",
       "      <td>0.0</td>\n",
       "      <td>Dec-95</td>\n",
       "      <td>1.0</td>\n",
       "      <td>NaN</td>\n",
       "      <td>9.0</td>\n",
       "      <td>1.0</td>\n",
       "      <td>10386.0</td>\n",
       "      <td>62.20%</td>\n",
       "      <td>25.0</td>\n",
       "      <td>14202.267530</td>\n",
       "      <td>14163.31</td>\n",
       "      <td>10550.0</td>\n",
       "      <td>3652.27</td>\n",
       "      <td>Jun-13</td>\n",
       "      <td>5439.96</td>\n",
       "      <td>NaN</td>\n",
       "      <td>Feb-16</td>\n",
       "      <td>0</td>\n",
       "    </tr>\n",
       "    <tr>\n",
       "      <th>38478</th>\n",
       "      <td>38479</td>\n",
       "      <td>825638</td>\n",
       "      <td>1034448</td>\n",
       "      <td>10000.0</td>\n",
       "      <td>10000.0</td>\n",
       "      <td>10000.00000</td>\n",
       "      <td>36 months</td>\n",
       "      <td>16.89</td>\n",
       "      <td>355.99</td>\n",
       "      <td>1 year</td>\n",
       "      <td>RENT</td>\n",
       "      <td>48720.0</td>\n",
       "      <td>Not Verified</td>\n",
       "      <td>Jul-11</td>\n",
       "      <td>Fully Paid</td>\n",
       "      <td>debt_consolidation</td>\n",
       "      <td>061xx</td>\n",
       "      <td>CT</td>\n",
       "      <td>18.97</td>\n",
       "      <td>0.0</td>\n",
       "      <td>Jul-07</td>\n",
       "      <td>2.0</td>\n",
       "      <td>NaN</td>\n",
       "      <td>8.0</td>\n",
       "      <td>0.0</td>\n",
       "      <td>7301.0</td>\n",
       "      <td>53.30%</td>\n",
       "      <td>12.0</td>\n",
       "      <td>12815.178320</td>\n",
       "      <td>12815.18</td>\n",
       "      <td>10000.0</td>\n",
       "      <td>2815.18</td>\n",
       "      <td>Aug-14</td>\n",
       "      <td>380.63</td>\n",
       "      <td>NaN</td>\n",
       "      <td>Sep-15</td>\n",
       "      <td>0</td>\n",
       "    </tr>\n",
       "    <tr>\n",
       "      <th>38479</th>\n",
       "      <td>38480</td>\n",
       "      <td>1029847</td>\n",
       "      <td>1249126</td>\n",
       "      <td>3200.0</td>\n",
       "      <td>3200.0</td>\n",
       "      <td>3200.00000</td>\n",
       "      <td>36 months</td>\n",
       "      <td>13.49</td>\n",
       "      <td>108.58</td>\n",
       "      <td>7 years</td>\n",
       "      <td>RENT</td>\n",
       "      <td>38400.0</td>\n",
       "      <td>Source Verified</td>\n",
       "      <td>Nov-11</td>\n",
       "      <td>Fully Paid</td>\n",
       "      <td>debt_consolidation</td>\n",
       "      <td>484xx</td>\n",
       "      <td>MI</td>\n",
       "      <td>12.56</td>\n",
       "      <td>0.0</td>\n",
       "      <td>Oct-95</td>\n",
       "      <td>2.0</td>\n",
       "      <td>38.0</td>\n",
       "      <td>8.0</td>\n",
       "      <td>1.0</td>\n",
       "      <td>2503.0</td>\n",
       "      <td>62.60%</td>\n",
       "      <td>18.0</td>\n",
       "      <td>3908.767275</td>\n",
       "      <td>3908.77</td>\n",
       "      <td>3200.0</td>\n",
       "      <td>708.77</td>\n",
       "      <td>Dec-14</td>\n",
       "      <td>111.88</td>\n",
       "      <td>NaN</td>\n",
       "      <td>Nov-14</td>\n",
       "      <td>0</td>\n",
       "    </tr>\n",
       "  </tbody>\n",
       "</table>\n",
       "</div>"
      ],
      "text/plain": [
       "       Unnamed: 0       id  member_id  loan_amnt  funded_amnt  \\\n",
       "38477       38478   519553     671637    16000.0      10550.0   \n",
       "38478       38479   825638    1034448    10000.0      10000.0   \n",
       "38479       38480  1029847    1249126     3200.0       3200.0   \n",
       "\n",
       "       funded_amnt_inv       term  int_rate  installment emp_length  \\\n",
       "38477      10531.35818  60 months     14.96       250.77  10+ years   \n",
       "38478      10000.00000  36 months     16.89       355.99     1 year   \n",
       "38479       3200.00000  36 months     13.49       108.58    7 years   \n",
       "\n",
       "      home_ownership  annual_inc verification_status issue_d loan_status  \\\n",
       "38477       MORTGAGE     95088.0     Source Verified  May-10  Fully Paid   \n",
       "38478           RENT     48720.0        Not Verified  Jul-11  Fully Paid   \n",
       "38479           RENT     38400.0     Source Verified  Nov-11  Fully Paid   \n",
       "\n",
       "                  purpose zip_code addr_state    dti  delinq_2yrs  \\\n",
       "38477  debt_consolidation    073xx         NJ  10.63          0.0   \n",
       "38478  debt_consolidation    061xx         CT  18.97          0.0   \n",
       "38479  debt_consolidation    484xx         MI  12.56          0.0   \n",
       "\n",
       "      earliest_cr_line  inq_last_6mths  mths_since_last_delinq  open_acc  \\\n",
       "38477           Dec-95             1.0                     NaN       9.0   \n",
       "38478           Jul-07             2.0                     NaN       8.0   \n",
       "38479           Oct-95             2.0                    38.0       8.0   \n",
       "\n",
       "       pub_rec  revol_bal revol_util  total_acc   total_pymnt  \\\n",
       "38477      1.0    10386.0     62.20%       25.0  14202.267530   \n",
       "38478      0.0     7301.0     53.30%       12.0  12815.178320   \n",
       "38479      1.0     2503.0     62.60%       18.0   3908.767275   \n",
       "\n",
       "       total_pymnt_inv  total_rec_prncp  total_rec_int last_pymnt_d  \\\n",
       "38477         14163.31          10550.0        3652.27       Jun-13   \n",
       "38478         12815.18          10000.0        2815.18       Aug-14   \n",
       "38479          3908.77           3200.0         708.77       Dec-14   \n",
       "\n",
       "       last_pymnt_amnt next_pymnt_d last_credit_pull_d  repay_fail  \n",
       "38477          5439.96          NaN             Feb-16           0  \n",
       "38478           380.63          NaN             Sep-15           0  \n",
       "38479           111.88          NaN             Nov-14           0  "
      ]
     },
     "execution_count": 217,
     "metadata": {},
     "output_type": "execute_result"
    }
   ],
   "source": [
    "df.tail(3)"
   ]
  },
  {
   "cell_type": "code",
   "execution_count": 218,
   "metadata": {},
   "outputs": [
    {
     "name": "stdout",
     "output_type": "stream",
     "text": [
      "<class 'pandas.core.frame.DataFrame'>\n",
      "RangeIndex: 38480 entries, 0 to 38479\n",
      "Data columns (total 37 columns):\n",
      " #   Column                  Non-Null Count  Dtype  \n",
      "---  ------                  --------------  -----  \n",
      " 0   Unnamed: 0              38480 non-null  int64  \n",
      " 1   id                      38480 non-null  int64  \n",
      " 2   member_id               38480 non-null  int64  \n",
      " 3   loan_amnt               38479 non-null  float64\n",
      " 4   funded_amnt             38479 non-null  float64\n",
      " 5   funded_amnt_inv         38479 non-null  float64\n",
      " 6   term                    38480 non-null  object \n",
      " 7   int_rate                38480 non-null  float64\n",
      " 8   installment             38479 non-null  float64\n",
      " 9   emp_length              37487 non-null  object \n",
      " 10  home_ownership          38480 non-null  object \n",
      " 11  annual_inc              38478 non-null  float64\n",
      " 12  verification_status     38480 non-null  object \n",
      " 13  issue_d                 38480 non-null  object \n",
      " 14  loan_status             38480 non-null  object \n",
      " 15  purpose                 38480 non-null  object \n",
      " 16  zip_code                38480 non-null  object \n",
      " 17  addr_state              38480 non-null  object \n",
      " 18  dti                     38480 non-null  float64\n",
      " 19  delinq_2yrs             38479 non-null  float64\n",
      " 20  earliest_cr_line        38480 non-null  object \n",
      " 21  inq_last_6mths          38479 non-null  float64\n",
      " 22  mths_since_last_delinq  14117 non-null  float64\n",
      " 23  open_acc                38479 non-null  float64\n",
      " 24  pub_rec                 38479 non-null  float64\n",
      " 25  revol_bal               38476 non-null  float64\n",
      " 26  revol_util              38421 non-null  object \n",
      " 27  total_acc               38479 non-null  float64\n",
      " 28  total_pymnt             38479 non-null  float64\n",
      " 29  total_pymnt_inv         38479 non-null  float64\n",
      " 30  total_rec_prncp         38479 non-null  float64\n",
      " 31  total_rec_int           38479 non-null  float64\n",
      " 32  last_pymnt_d            38409 non-null  object \n",
      " 33  last_pymnt_amnt         38479 non-null  float64\n",
      " 34  next_pymnt_d            3383 non-null   object \n",
      " 35  last_credit_pull_d      38477 non-null  object \n",
      " 36  repay_fail              38480 non-null  int64  \n",
      "dtypes: float64(19), int64(4), object(14)\n",
      "memory usage: 10.9+ MB\n"
     ]
    }
   ],
   "source": [
    "df.info()"
   ]
  },
  {
   "cell_type": "code",
   "execution_count": 219,
   "metadata": {},
   "outputs": [
    {
     "data": {
      "text/plain": [
       "Index(['Unnamed: 0', 'id', 'member_id', 'loan_amnt', 'funded_amnt',\n",
       "       'funded_amnt_inv', 'term', 'int_rate', 'installment', 'emp_length',\n",
       "       'home_ownership', 'annual_inc', 'verification_status', 'issue_d',\n",
       "       'loan_status', 'purpose', 'zip_code', 'addr_state', 'dti',\n",
       "       'delinq_2yrs', 'earliest_cr_line', 'inq_last_6mths',\n",
       "       'mths_since_last_delinq', 'open_acc', 'pub_rec', 'revol_bal',\n",
       "       'revol_util', 'total_acc', 'total_pymnt', 'total_pymnt_inv',\n",
       "       'total_rec_prncp', 'total_rec_int', 'last_pymnt_d', 'last_pymnt_amnt',\n",
       "       'next_pymnt_d', 'last_credit_pull_d', 'repay_fail'],\n",
       "      dtype='object')"
      ]
     },
     "execution_count": 219,
     "metadata": {},
     "output_type": "execute_result"
    }
   ],
   "source": [
    "df.columns"
   ]
  },
  {
   "cell_type": "code",
   "execution_count": null,
   "metadata": {},
   "outputs": [],
   "source": []
  },
  {
   "cell_type": "code",
   "execution_count": 220,
   "metadata": {},
   "outputs": [
    {
     "data": {
      "text/plain": [
       "Unnamed: 0                38480\n",
       "id                        38480\n",
       "member_id                 38480\n",
       "loan_amnt                 38479\n",
       "funded_amnt               38479\n",
       "funded_amnt_inv           38479\n",
       "term                      38480\n",
       "int_rate                  38480\n",
       "installment               38479\n",
       "emp_length                37487\n",
       "home_ownership            38480\n",
       "annual_inc                38478\n",
       "verification_status       38480\n",
       "issue_d                   38480\n",
       "loan_status               38480\n",
       "purpose                   38480\n",
       "zip_code                  38480\n",
       "addr_state                38480\n",
       "dti                       38480\n",
       "delinq_2yrs               38479\n",
       "earliest_cr_line          38480\n",
       "inq_last_6mths            38479\n",
       "mths_since_last_delinq    14117\n",
       "open_acc                  38479\n",
       "pub_rec                   38479\n",
       "revol_bal                 38476\n",
       "revol_util                38421\n",
       "total_acc                 38479\n",
       "total_pymnt               38479\n",
       "total_pymnt_inv           38479\n",
       "total_rec_prncp           38479\n",
       "total_rec_int             38479\n",
       "last_pymnt_d              38409\n",
       "last_pymnt_amnt           38479\n",
       "next_pymnt_d               3383\n",
       "last_credit_pull_d        38477\n",
       "repay_fail                38480\n",
       "dtype: int64"
      ]
     },
     "execution_count": 220,
     "metadata": {},
     "output_type": "execute_result"
    }
   ],
   "source": [
    "df.count()"
   ]
  },
  {
   "cell_type": "code",
   "execution_count": 221,
   "metadata": {},
   "outputs": [
    {
     "data": {
      "text/plain": [
       "(38480, 37)"
      ]
     },
     "execution_count": 221,
     "metadata": {},
     "output_type": "execute_result"
    }
   ],
   "source": [
    "df.shape"
   ]
  },
  {
   "cell_type": "markdown",
   "metadata": {},
   "source": [
    "#### CLEANING THE DATASET"
   ]
  },
  {
   "cell_type": "code",
   "execution_count": 222,
   "metadata": {},
   "outputs": [
    {
     "data": {
      "text/plain": [
       "True"
      ]
     },
     "execution_count": 222,
     "metadata": {},
     "output_type": "execute_result"
    }
   ],
   "source": [
    "df.isnull().values.any()"
   ]
  },
  {
   "cell_type": "code",
   "execution_count": 223,
   "metadata": {},
   "outputs": [
    {
     "data": {
      "text/plain": [
       "Unnamed: 0                    0\n",
       "id                            0\n",
       "member_id                     0\n",
       "loan_amnt                     1\n",
       "funded_amnt                   1\n",
       "funded_amnt_inv               1\n",
       "term                          0\n",
       "int_rate                      0\n",
       "installment                   1\n",
       "emp_length                  993\n",
       "home_ownership                0\n",
       "annual_inc                    2\n",
       "verification_status           0\n",
       "issue_d                       0\n",
       "loan_status                   0\n",
       "purpose                       0\n",
       "zip_code                      0\n",
       "addr_state                    0\n",
       "dti                           0\n",
       "delinq_2yrs                   1\n",
       "earliest_cr_line              0\n",
       "inq_last_6mths                1\n",
       "mths_since_last_delinq    24363\n",
       "open_acc                      1\n",
       "pub_rec                       1\n",
       "revol_bal                     4\n",
       "revol_util                   59\n",
       "total_acc                     1\n",
       "total_pymnt                   1\n",
       "total_pymnt_inv               1\n",
       "total_rec_prncp               1\n",
       "total_rec_int                 1\n",
       "last_pymnt_d                 71\n",
       "last_pymnt_amnt               1\n",
       "next_pymnt_d              35097\n",
       "last_credit_pull_d            3\n",
       "repay_fail                    0\n",
       "dtype: int64"
      ]
     },
     "execution_count": 223,
     "metadata": {},
     "output_type": "execute_result"
    }
   ],
   "source": [
    "df.isna().sum()"
   ]
  },
  {
   "cell_type": "code",
   "execution_count": 224,
   "metadata": {},
   "outputs": [
    {
     "data": {
      "text/plain": [
       "Unnamed: 0                    0\n",
       "id                            0\n",
       "member_id                     0\n",
       "loan_amnt                     1\n",
       "funded_amnt                   1\n",
       "funded_amnt_inv               1\n",
       "term                          0\n",
       "int_rate                      0\n",
       "installment                   1\n",
       "emp_length                  993\n",
       "home_ownership                0\n",
       "annual_inc                    2\n",
       "verification_status           0\n",
       "issue_d                       0\n",
       "loan_status                   0\n",
       "purpose                       0\n",
       "zip_code                      0\n",
       "addr_state                    0\n",
       "dti                           0\n",
       "delinq_2yrs                   1\n",
       "earliest_cr_line              0\n",
       "inq_last_6mths                1\n",
       "mths_since_last_delinq    24363\n",
       "open_acc                      1\n",
       "pub_rec                       1\n",
       "revol_bal                     4\n",
       "revol_util                   59\n",
       "total_acc                     1\n",
       "total_pymnt                   1\n",
       "total_pymnt_inv               1\n",
       "total_rec_prncp               1\n",
       "total_rec_int                 1\n",
       "last_pymnt_d                 71\n",
       "last_pymnt_amnt               1\n",
       "next_pymnt_d              35097\n",
       "last_credit_pull_d            3\n",
       "repay_fail                    0\n",
       "dtype: int64"
      ]
     },
     "execution_count": 224,
     "metadata": {},
     "output_type": "execute_result"
    }
   ],
   "source": [
    "# Find the percentage of null values\n",
    "# Step 1\n",
    "null_count = df.isnull().sum()\n",
    "null_count"
   ]
  },
  {
   "cell_type": "code",
   "execution_count": 225,
   "metadata": {},
   "outputs": [
    {
     "data": {
      "text/plain": [
       "38480"
      ]
     },
     "execution_count": 225,
     "metadata": {},
     "output_type": "execute_result"
    }
   ],
   "source": [
    "# Step 2 - Find total number of non-null values\n",
    "non_null = df.shape[0]\n",
    "non_null"
   ]
  },
  {
   "cell_type": "code",
   "execution_count": 226,
   "metadata": {},
   "outputs": [
    {
     "data": {
      "text/plain": [
       "Unnamed: 0                 0.000000\n",
       "id                         0.000000\n",
       "member_id                  0.000000\n",
       "loan_amnt                  0.002599\n",
       "funded_amnt                0.002599\n",
       "funded_amnt_inv            0.002599\n",
       "term                       0.000000\n",
       "int_rate                   0.000000\n",
       "installment                0.002599\n",
       "emp_length                 2.580561\n",
       "home_ownership             0.000000\n",
       "annual_inc                 0.005198\n",
       "verification_status        0.000000\n",
       "issue_d                    0.000000\n",
       "loan_status                0.000000\n",
       "purpose                    0.000000\n",
       "zip_code                   0.000000\n",
       "addr_state                 0.000000\n",
       "dti                        0.000000\n",
       "delinq_2yrs                0.002599\n",
       "earliest_cr_line           0.000000\n",
       "inq_last_6mths             0.002599\n",
       "mths_since_last_delinq    63.313410\n",
       "open_acc                   0.002599\n",
       "pub_rec                    0.002599\n",
       "revol_bal                  0.010395\n",
       "revol_util                 0.153326\n",
       "total_acc                  0.002599\n",
       "total_pymnt                0.002599\n",
       "total_pymnt_inv            0.002599\n",
       "total_rec_prncp            0.002599\n",
       "total_rec_int              0.002599\n",
       "last_pymnt_d               0.184511\n",
       "last_pymnt_amnt            0.002599\n",
       "next_pymnt_d              91.208420\n",
       "last_credit_pull_d         0.007796\n",
       "repay_fail                 0.000000\n",
       "dtype: float64"
      ]
     },
     "execution_count": 226,
     "metadata": {},
     "output_type": "execute_result"
    }
   ],
   "source": [
    "# Step 3 - Calculate percentage for each column\n",
    "null_percentage = (null_count / non_null) * 100\n",
    "null_percentage"
   ]
  },
  {
   "cell_type": "markdown",
   "metadata": {},
   "source": [
    "next_pymnt_d and mths_since_last_delinq have high percentage of missing values"
   ]
  },
  {
   "cell_type": "code",
   "execution_count": 227,
   "metadata": {},
   "outputs": [],
   "source": [
    "# Lets drop next_pymnt_d since it has so many missing values (35097 missing values)\n",
    "# Lets drop mths_since_last_delinq since it has so many missing values (24363 missing values)\n",
    "df.drop('next_pymnt_d', axis= 1, inplace=True)\n",
    "df.drop('mths_since_last_delinq', axis=1, inplace=True)"
   ]
  },
  {
   "cell_type": "code",
   "execution_count": 228,
   "metadata": {},
   "outputs": [
    {
     "data": {
      "text/plain": [
       "Unnamed: 0               0\n",
       "id                       0\n",
       "member_id                0\n",
       "loan_amnt                1\n",
       "funded_amnt              1\n",
       "funded_amnt_inv          1\n",
       "term                     0\n",
       "int_rate                 0\n",
       "installment              1\n",
       "emp_length             993\n",
       "home_ownership           0\n",
       "annual_inc               2\n",
       "verification_status      0\n",
       "issue_d                  0\n",
       "loan_status              0\n",
       "purpose                  0\n",
       "zip_code                 0\n",
       "addr_state               0\n",
       "dti                      0\n",
       "delinq_2yrs              1\n",
       "earliest_cr_line         0\n",
       "inq_last_6mths           1\n",
       "open_acc                 1\n",
       "pub_rec                  1\n",
       "revol_bal                4\n",
       "revol_util              59\n",
       "total_acc                1\n",
       "total_pymnt              1\n",
       "total_pymnt_inv          1\n",
       "total_rec_prncp          1\n",
       "total_rec_int            1\n",
       "last_pymnt_d            71\n",
       "last_pymnt_amnt          1\n",
       "last_credit_pull_d       3\n",
       "repay_fail               0\n",
       "dtype: int64"
      ]
     },
     "execution_count": 228,
     "metadata": {},
     "output_type": "execute_result"
    }
   ],
   "source": [
    "# checking if the df is cleaner\n",
    "df.isna().sum()\n",
    "# Rest of the columns will be handled separately to insert or \n",
    "# drop the rows after applying masks dealing with respective columns\n",
    "\n"
   ]
  },
  {
   "cell_type": "markdown",
   "metadata": {},
   "source": [
    "Checking For Duplicates"
   ]
  },
  {
   "cell_type": "code",
   "execution_count": 229,
   "metadata": {},
   "outputs": [
    {
     "data": {
      "text/plain": [
       "0"
      ]
     },
     "execution_count": 229,
     "metadata": {},
     "output_type": "execute_result"
    }
   ],
   "source": [
    "df.duplicated().sum()\n",
    "# There are no duplicates"
   ]
  },
  {
   "cell_type": "markdown",
   "metadata": {},
   "source": [
    "Checking for Data Inconsistency"
   ]
  },
  {
   "cell_type": "code",
   "execution_count": 230,
   "metadata": {},
   "outputs": [
    {
     "data": {
      "text/html": [
       "<div>\n",
       "<style scoped>\n",
       "    .dataframe tbody tr th:only-of-type {\n",
       "        vertical-align: middle;\n",
       "    }\n",
       "\n",
       "    .dataframe tbody tr th {\n",
       "        vertical-align: top;\n",
       "    }\n",
       "\n",
       "    .dataframe thead th {\n",
       "        text-align: right;\n",
       "    }\n",
       "</style>\n",
       "<table border=\"1\" class=\"dataframe\">\n",
       "  <thead>\n",
       "    <tr style=\"text-align: right;\">\n",
       "      <th></th>\n",
       "      <th>Unnamed: 0</th>\n",
       "      <th>id</th>\n",
       "      <th>member_id</th>\n",
       "      <th>loan_amnt</th>\n",
       "      <th>funded_amnt</th>\n",
       "      <th>funded_amnt_inv</th>\n",
       "      <th>int_rate</th>\n",
       "      <th>installment</th>\n",
       "      <th>annual_inc</th>\n",
       "      <th>dti</th>\n",
       "      <th>delinq_2yrs</th>\n",
       "      <th>inq_last_6mths</th>\n",
       "      <th>open_acc</th>\n",
       "      <th>pub_rec</th>\n",
       "      <th>revol_bal</th>\n",
       "      <th>total_acc</th>\n",
       "      <th>total_pymnt</th>\n",
       "      <th>total_pymnt_inv</th>\n",
       "      <th>total_rec_prncp</th>\n",
       "      <th>total_rec_int</th>\n",
       "      <th>last_pymnt_amnt</th>\n",
       "      <th>repay_fail</th>\n",
       "    </tr>\n",
       "  </thead>\n",
       "  <tbody>\n",
       "    <tr>\n",
       "      <th>count</th>\n",
       "      <td>38480.000000</td>\n",
       "      <td>3.848000e+04</td>\n",
       "      <td>3.848000e+04</td>\n",
       "      <td>38479.000000</td>\n",
       "      <td>38479.000000</td>\n",
       "      <td>38479.000000</td>\n",
       "      <td>38480.00000</td>\n",
       "      <td>38479.000000</td>\n",
       "      <td>3.847800e+04</td>\n",
       "      <td>38480.000000</td>\n",
       "      <td>38479.000000</td>\n",
       "      <td>38479.000000</td>\n",
       "      <td>38479.000000</td>\n",
       "      <td>38479.000000</td>\n",
       "      <td>3.847600e+04</td>\n",
       "      <td>38479.000000</td>\n",
       "      <td>38479.000000</td>\n",
       "      <td>38479.000000</td>\n",
       "      <td>38479.000000</td>\n",
       "      <td>38479.000000</td>\n",
       "      <td>38479.000000</td>\n",
       "      <td>38480.000000</td>\n",
       "    </tr>\n",
       "    <tr>\n",
       "      <th>mean</th>\n",
       "      <td>19240.500000</td>\n",
       "      <td>6.649979e+05</td>\n",
       "      <td>8.261899e+05</td>\n",
       "      <td>11094.727644</td>\n",
       "      <td>10831.856337</td>\n",
       "      <td>10150.141518</td>\n",
       "      <td>12.16430</td>\n",
       "      <td>323.163255</td>\n",
       "      <td>6.899531e+04</td>\n",
       "      <td>13.378119</td>\n",
       "      <td>0.151927</td>\n",
       "      <td>1.083942</td>\n",
       "      <td>9.342966</td>\n",
       "      <td>0.057902</td>\n",
       "      <td>1.428987e+04</td>\n",
       "      <td>22.108501</td>\n",
       "      <td>11980.696892</td>\n",
       "      <td>11274.519569</td>\n",
       "      <td>9646.412705</td>\n",
       "      <td>2232.768235</td>\n",
       "      <td>2614.441757</td>\n",
       "      <td>0.151481</td>\n",
       "    </tr>\n",
       "    <tr>\n",
       "      <th>std</th>\n",
       "      <td>11108.363516</td>\n",
       "      <td>2.192322e+05</td>\n",
       "      <td>2.793531e+05</td>\n",
       "      <td>7405.416042</td>\n",
       "      <td>7146.853682</td>\n",
       "      <td>7128.026828</td>\n",
       "      <td>3.73744</td>\n",
       "      <td>209.089097</td>\n",
       "      <td>6.447639e+04</td>\n",
       "      <td>6.744356</td>\n",
       "      <td>0.507592</td>\n",
       "      <td>1.534814</td>\n",
       "      <td>4.498075</td>\n",
       "      <td>0.245707</td>\n",
       "      <td>2.194138e+04</td>\n",
       "      <td>11.588602</td>\n",
       "      <td>9006.505205</td>\n",
       "      <td>8946.229941</td>\n",
       "      <td>7051.828302</td>\n",
       "      <td>2570.177312</td>\n",
       "      <td>4391.969583</td>\n",
       "      <td>0.358522</td>\n",
       "    </tr>\n",
       "    <tr>\n",
       "      <th>min</th>\n",
       "      <td>1.000000</td>\n",
       "      <td>1.000000e+00</td>\n",
       "      <td>1.000000e+00</td>\n",
       "      <td>0.000000</td>\n",
       "      <td>0.000000</td>\n",
       "      <td>0.000000</td>\n",
       "      <td>0.00000</td>\n",
       "      <td>0.000000</td>\n",
       "      <td>0.000000e+00</td>\n",
       "      <td>0.000000</td>\n",
       "      <td>0.000000</td>\n",
       "      <td>0.000000</td>\n",
       "      <td>0.000000</td>\n",
       "      <td>0.000000</td>\n",
       "      <td>0.000000e+00</td>\n",
       "      <td>1.000000</td>\n",
       "      <td>0.000000</td>\n",
       "      <td>0.000000</td>\n",
       "      <td>0.000000</td>\n",
       "      <td>0.000000</td>\n",
       "      <td>0.000000</td>\n",
       "      <td>0.000000</td>\n",
       "    </tr>\n",
       "    <tr>\n",
       "      <th>25%</th>\n",
       "      <td>9620.750000</td>\n",
       "      <td>4.983645e+05</td>\n",
       "      <td>6.384620e+05</td>\n",
       "      <td>5200.000000</td>\n",
       "      <td>5100.000000</td>\n",
       "      <td>4950.000000</td>\n",
       "      <td>9.62000</td>\n",
       "      <td>165.740000</td>\n",
       "      <td>4.000000e+04</td>\n",
       "      <td>8.200000</td>\n",
       "      <td>0.000000</td>\n",
       "      <td>0.000000</td>\n",
       "      <td>6.000000</td>\n",
       "      <td>0.000000</td>\n",
       "      <td>3.639750e+03</td>\n",
       "      <td>13.000000</td>\n",
       "      <td>5463.099238</td>\n",
       "      <td>4811.735000</td>\n",
       "      <td>4400.000000</td>\n",
       "      <td>657.700000</td>\n",
       "      <td>212.010000</td>\n",
       "      <td>0.000000</td>\n",
       "    </tr>\n",
       "    <tr>\n",
       "      <th>50%</th>\n",
       "      <td>19240.500000</td>\n",
       "      <td>6.443195e+05</td>\n",
       "      <td>8.242545e+05</td>\n",
       "      <td>9750.000000</td>\n",
       "      <td>9600.000000</td>\n",
       "      <td>8495.792749</td>\n",
       "      <td>11.99000</td>\n",
       "      <td>277.980000</td>\n",
       "      <td>5.865000e+04</td>\n",
       "      <td>13.485000</td>\n",
       "      <td>0.000000</td>\n",
       "      <td>1.000000</td>\n",
       "      <td>9.000000</td>\n",
       "      <td>0.000000</td>\n",
       "      <td>8.839500e+03</td>\n",
       "      <td>20.000000</td>\n",
       "      <td>9673.221341</td>\n",
       "      <td>8953.240000</td>\n",
       "      <td>8000.000000</td>\n",
       "      <td>1335.090000</td>\n",
       "      <td>526.000000</td>\n",
       "      <td>0.000000</td>\n",
       "    </tr>\n",
       "    <tr>\n",
       "      <th>75%</th>\n",
       "      <td>28860.250000</td>\n",
       "      <td>8.265608e+05</td>\n",
       "      <td>1.034706e+06</td>\n",
       "      <td>15000.000000</td>\n",
       "      <td>15000.000000</td>\n",
       "      <td>14000.000000</td>\n",
       "      <td>14.72000</td>\n",
       "      <td>429.350000</td>\n",
       "      <td>8.200000e+04</td>\n",
       "      <td>18.690000</td>\n",
       "      <td>0.000000</td>\n",
       "      <td>2.000000</td>\n",
       "      <td>12.000000</td>\n",
       "      <td>0.000000</td>\n",
       "      <td>1.726550e+04</td>\n",
       "      <td>29.000000</td>\n",
       "      <td>16402.394995</td>\n",
       "      <td>15486.925000</td>\n",
       "      <td>13315.100000</td>\n",
       "      <td>2795.020000</td>\n",
       "      <td>3169.815000</td>\n",
       "      <td>0.000000</td>\n",
       "    </tr>\n",
       "    <tr>\n",
       "      <th>max</th>\n",
       "      <td>38480.000000</td>\n",
       "      <td>1.077430e+06</td>\n",
       "      <td>1.314167e+06</td>\n",
       "      <td>35000.000000</td>\n",
       "      <td>35000.000000</td>\n",
       "      <td>35000.000000</td>\n",
       "      <td>100.99000</td>\n",
       "      <td>1305.190000</td>\n",
       "      <td>6.000000e+06</td>\n",
       "      <td>100.000000</td>\n",
       "      <td>11.000000</td>\n",
       "      <td>33.000000</td>\n",
       "      <td>47.000000</td>\n",
       "      <td>5.000000</td>\n",
       "      <td>1.207359e+06</td>\n",
       "      <td>90.000000</td>\n",
       "      <td>58563.679930</td>\n",
       "      <td>58563.680000</td>\n",
       "      <td>35000.020000</td>\n",
       "      <td>23611.100000</td>\n",
       "      <td>36115.200000</td>\n",
       "      <td>1.000000</td>\n",
       "    </tr>\n",
       "  </tbody>\n",
       "</table>\n",
       "</div>"
      ],
      "text/plain": [
       "         Unnamed: 0            id     member_id     loan_amnt   funded_amnt  \\\n",
       "count  38480.000000  3.848000e+04  3.848000e+04  38479.000000  38479.000000   \n",
       "mean   19240.500000  6.649979e+05  8.261899e+05  11094.727644  10831.856337   \n",
       "std    11108.363516  2.192322e+05  2.793531e+05   7405.416042   7146.853682   \n",
       "min        1.000000  1.000000e+00  1.000000e+00      0.000000      0.000000   \n",
       "25%     9620.750000  4.983645e+05  6.384620e+05   5200.000000   5100.000000   \n",
       "50%    19240.500000  6.443195e+05  8.242545e+05   9750.000000   9600.000000   \n",
       "75%    28860.250000  8.265608e+05  1.034706e+06  15000.000000  15000.000000   \n",
       "max    38480.000000  1.077430e+06  1.314167e+06  35000.000000  35000.000000   \n",
       "\n",
       "       funded_amnt_inv     int_rate   installment    annual_inc           dti  \\\n",
       "count     38479.000000  38480.00000  38479.000000  3.847800e+04  38480.000000   \n",
       "mean      10150.141518     12.16430    323.163255  6.899531e+04     13.378119   \n",
       "std        7128.026828      3.73744    209.089097  6.447639e+04      6.744356   \n",
       "min           0.000000      0.00000      0.000000  0.000000e+00      0.000000   \n",
       "25%        4950.000000      9.62000    165.740000  4.000000e+04      8.200000   \n",
       "50%        8495.792749     11.99000    277.980000  5.865000e+04     13.485000   \n",
       "75%       14000.000000     14.72000    429.350000  8.200000e+04     18.690000   \n",
       "max       35000.000000    100.99000   1305.190000  6.000000e+06    100.000000   \n",
       "\n",
       "        delinq_2yrs  inq_last_6mths      open_acc       pub_rec     revol_bal  \\\n",
       "count  38479.000000    38479.000000  38479.000000  38479.000000  3.847600e+04   \n",
       "mean       0.151927        1.083942      9.342966      0.057902  1.428987e+04   \n",
       "std        0.507592        1.534814      4.498075      0.245707  2.194138e+04   \n",
       "min        0.000000        0.000000      0.000000      0.000000  0.000000e+00   \n",
       "25%        0.000000        0.000000      6.000000      0.000000  3.639750e+03   \n",
       "50%        0.000000        1.000000      9.000000      0.000000  8.839500e+03   \n",
       "75%        0.000000        2.000000     12.000000      0.000000  1.726550e+04   \n",
       "max       11.000000       33.000000     47.000000      5.000000  1.207359e+06   \n",
       "\n",
       "          total_acc   total_pymnt  total_pymnt_inv  total_rec_prncp  \\\n",
       "count  38479.000000  38479.000000     38479.000000     38479.000000   \n",
       "mean      22.108501  11980.696892     11274.519569      9646.412705   \n",
       "std       11.588602   9006.505205      8946.229941      7051.828302   \n",
       "min        1.000000      0.000000         0.000000         0.000000   \n",
       "25%       13.000000   5463.099238      4811.735000      4400.000000   \n",
       "50%       20.000000   9673.221341      8953.240000      8000.000000   \n",
       "75%       29.000000  16402.394995     15486.925000     13315.100000   \n",
       "max       90.000000  58563.679930     58563.680000     35000.020000   \n",
       "\n",
       "       total_rec_int  last_pymnt_amnt    repay_fail  \n",
       "count   38479.000000     38479.000000  38480.000000  \n",
       "mean     2232.768235      2614.441757      0.151481  \n",
       "std      2570.177312      4391.969583      0.358522  \n",
       "min         0.000000         0.000000      0.000000  \n",
       "25%       657.700000       212.010000      0.000000  \n",
       "50%      1335.090000       526.000000      0.000000  \n",
       "75%      2795.020000      3169.815000      0.000000  \n",
       "max     23611.100000     36115.200000      1.000000  "
      ]
     },
     "execution_count": 230,
     "metadata": {},
     "output_type": "execute_result"
    }
   ],
   "source": [
    "df.describe()"
   ]
  },
  {
   "cell_type": "markdown",
   "metadata": {},
   "source": [
    "Clean the Rows with NaN values"
   ]
  },
  {
   "cell_type": "code",
   "execution_count": 231,
   "metadata": {},
   "outputs": [],
   "source": [
    "#Find columns with NaN values\n",
    "nan_columns = df.columns[df.isna().any()].tolist()\n",
    "# nan_columns\n",
    "\n",
    "# len(nan_columns)"
   ]
  },
  {
   "cell_type": "markdown",
   "metadata": {},
   "source": [
    "Returned 20 columns with Null Values"
   ]
  },
  {
   "cell_type": "code",
   "execution_count": 232,
   "metadata": {},
   "outputs": [],
   "source": [
    "# First column - loan_amnt\n",
    "df.dropna(subset=['loan_amnt'], inplace=True)"
   ]
  },
  {
   "cell_type": "markdown",
   "metadata": {},
   "source": [
    "This step removed nan values from most columns but 6 columns"
   ]
  },
  {
   "cell_type": "code",
   "execution_count": 233,
   "metadata": {},
   "outputs": [
    {
     "data": {
      "text/plain": [
       "993"
      ]
     },
     "execution_count": 233,
     "metadata": {},
     "output_type": "execute_result"
    }
   ],
   "source": [
    "df.emp_length.isna().sum()\n",
    "# There are 993 nan records and it is better to drop them. "
   ]
  },
  {
   "cell_type": "code",
   "execution_count": 234,
   "metadata": {},
   "outputs": [],
   "source": [
    "df.dropna(subset=['emp_length'], inplace=True)"
   ]
  },
  {
   "cell_type": "code",
   "execution_count": 235,
   "metadata": {},
   "outputs": [
    {
     "data": {
      "text/plain": [
       "['annual_inc', 'revol_bal', 'revol_util', 'last_pymnt_d', 'last_credit_pull_d']"
      ]
     },
     "execution_count": 235,
     "metadata": {},
     "output_type": "execute_result"
    }
   ],
   "source": [
    "# Check again if there are still Nan Values in other columns\n",
    "nan_columns = df.columns[df.isna().any()].tolist()\n",
    "nan_columns"
   ]
  },
  {
   "cell_type": "code",
   "execution_count": 236,
   "metadata": {},
   "outputs": [
    {
     "data": {
      "text/plain": [
       "3"
      ]
     },
     "execution_count": 236,
     "metadata": {},
     "output_type": "execute_result"
    }
   ],
   "source": [
    "df.revol_bal.isna().sum()\n"
   ]
  },
  {
   "cell_type": "code",
   "execution_count": 237,
   "metadata": {},
   "outputs": [],
   "source": [
    "df.dropna(subset=['revol_bal'], inplace=True)"
   ]
  },
  {
   "cell_type": "code",
   "execution_count": 238,
   "metadata": {},
   "outputs": [
    {
     "data": {
      "text/plain": [
       "56"
      ]
     },
     "execution_count": 238,
     "metadata": {},
     "output_type": "execute_result"
    }
   ],
   "source": [
    "df.revol_util.isna().sum()"
   ]
  },
  {
   "cell_type": "code",
   "execution_count": 239,
   "metadata": {},
   "outputs": [],
   "source": [
    "df.dropna(subset=['revol_util'], inplace=True)"
   ]
  },
  {
   "cell_type": "code",
   "execution_count": 240,
   "metadata": {},
   "outputs": [
    {
     "data": {
      "text/plain": [
       "64"
      ]
     },
     "execution_count": 240,
     "metadata": {},
     "output_type": "execute_result"
    }
   ],
   "source": [
    "df.last_pymnt_d.isna().sum()"
   ]
  },
  {
   "cell_type": "code",
   "execution_count": 241,
   "metadata": {},
   "outputs": [],
   "source": [
    "df.dropna(subset=['last_pymnt_d'], inplace=True)"
   ]
  },
  {
   "cell_type": "code",
   "execution_count": 242,
   "metadata": {},
   "outputs": [
    {
     "data": {
      "text/plain": [
       "3"
      ]
     },
     "execution_count": 242,
     "metadata": {},
     "output_type": "execute_result"
    }
   ],
   "source": [
    "df.last_credit_pull_d.isna().sum()"
   ]
  },
  {
   "cell_type": "code",
   "execution_count": 243,
   "metadata": {},
   "outputs": [],
   "source": [
    "df.dropna(subset=['last_credit_pull_d'], inplace=True)"
   ]
  },
  {
   "cell_type": "code",
   "execution_count": 244,
   "metadata": {},
   "outputs": [
    {
     "data": {
      "text/plain": [
       "1"
      ]
     },
     "execution_count": 244,
     "metadata": {},
     "output_type": "execute_result"
    }
   ],
   "source": [
    "df.annual_inc.isna().sum()"
   ]
  },
  {
   "cell_type": "code",
   "execution_count": 245,
   "metadata": {},
   "outputs": [],
   "source": [
    "df.dropna(subset=['annual_inc'], inplace=True)"
   ]
  },
  {
   "cell_type": "code",
   "execution_count": 246,
   "metadata": {},
   "outputs": [
    {
     "data": {
      "text/plain": [
       "[]"
      ]
     },
     "execution_count": 246,
     "metadata": {},
     "output_type": "execute_result"
    }
   ],
   "source": [
    "nan_columns = df.columns[df.isna().any()].tolist()\n",
    "nan_columns"
   ]
  },
  {
   "cell_type": "markdown",
   "metadata": {},
   "source": [
    "There is no Column with NaN Values"
   ]
  },
  {
   "cell_type": "code",
   "execution_count": 247,
   "metadata": {},
   "outputs": [
    {
     "data": {
      "text/plain": [
       "Unnamed: 0             0\n",
       "id                     0\n",
       "member_id              0\n",
       "loan_amnt              0\n",
       "funded_amnt            0\n",
       "funded_amnt_inv        0\n",
       "term                   0\n",
       "int_rate               0\n",
       "installment            0\n",
       "emp_length             0\n",
       "home_ownership         0\n",
       "annual_inc             0\n",
       "verification_status    0\n",
       "issue_d                0\n",
       "loan_status            0\n",
       "purpose                0\n",
       "zip_code               0\n",
       "addr_state             0\n",
       "dti                    0\n",
       "delinq_2yrs            0\n",
       "earliest_cr_line       0\n",
       "inq_last_6mths         0\n",
       "open_acc               0\n",
       "pub_rec                0\n",
       "revol_bal              0\n",
       "revol_util             0\n",
       "total_acc              0\n",
       "total_pymnt            0\n",
       "total_pymnt_inv        0\n",
       "total_rec_prncp        0\n",
       "total_rec_int          0\n",
       "last_pymnt_d           0\n",
       "last_pymnt_amnt        0\n",
       "last_credit_pull_d     0\n",
       "repay_fail             0\n",
       "dtype: int64"
      ]
     },
     "execution_count": 247,
     "metadata": {},
     "output_type": "execute_result"
    }
   ],
   "source": [
    "# Confirm if dataset is clean\n",
    "df.isna().sum()"
   ]
  },
  {
   "cell_type": "code",
   "execution_count": 248,
   "metadata": {},
   "outputs": [
    {
     "data": {
      "text/plain": [
       "(37359, 35)"
      ]
     },
     "execution_count": 248,
     "metadata": {},
     "output_type": "execute_result"
    }
   ],
   "source": [
    "df.shape"
   ]
  },
  {
   "cell_type": "code",
   "execution_count": 249,
   "metadata": {},
   "outputs": [
    {
     "name": "stdout",
     "output_type": "stream",
     "text": [
      "<class 'pandas.core.frame.DataFrame'>\n",
      "Index: 37359 entries, 0 to 38479\n",
      "Data columns (total 35 columns):\n",
      " #   Column               Non-Null Count  Dtype  \n",
      "---  ------               --------------  -----  \n",
      " 0   Unnamed: 0           37359 non-null  int64  \n",
      " 1   id                   37359 non-null  int64  \n",
      " 2   member_id            37359 non-null  int64  \n",
      " 3   loan_amnt            37359 non-null  float64\n",
      " 4   funded_amnt          37359 non-null  float64\n",
      " 5   funded_amnt_inv      37359 non-null  float64\n",
      " 6   term                 37359 non-null  object \n",
      " 7   int_rate             37359 non-null  float64\n",
      " 8   installment          37359 non-null  float64\n",
      " 9   emp_length           37359 non-null  object \n",
      " 10  home_ownership       37359 non-null  object \n",
      " 11  annual_inc           37359 non-null  float64\n",
      " 12  verification_status  37359 non-null  object \n",
      " 13  issue_d              37359 non-null  object \n",
      " 14  loan_status          37359 non-null  object \n",
      " 15  purpose              37359 non-null  object \n",
      " 16  zip_code             37359 non-null  object \n",
      " 17  addr_state           37359 non-null  object \n",
      " 18  dti                  37359 non-null  float64\n",
      " 19  delinq_2yrs          37359 non-null  float64\n",
      " 20  earliest_cr_line     37359 non-null  object \n",
      " 21  inq_last_6mths       37359 non-null  float64\n",
      " 22  open_acc             37359 non-null  float64\n",
      " 23  pub_rec              37359 non-null  float64\n",
      " 24  revol_bal            37359 non-null  float64\n",
      " 25  revol_util           37359 non-null  object \n",
      " 26  total_acc            37359 non-null  float64\n",
      " 27  total_pymnt          37359 non-null  float64\n",
      " 28  total_pymnt_inv      37359 non-null  float64\n",
      " 29  total_rec_prncp      37359 non-null  float64\n",
      " 30  total_rec_int        37359 non-null  float64\n",
      " 31  last_pymnt_d         37359 non-null  object \n",
      " 32  last_pymnt_amnt      37359 non-null  float64\n",
      " 33  last_credit_pull_d   37359 non-null  object \n",
      " 34  repay_fail           37359 non-null  int64  \n",
      "dtypes: float64(18), int64(4), object(13)\n",
      "memory usage: 10.3+ MB\n"
     ]
    }
   ],
   "source": [
    "# Checking datatypes\n",
    "df.info()"
   ]
  },
  {
   "cell_type": "markdown",
   "metadata": {},
   "source": [
    "### DATA TRANSFORMATION AND ENRICHMENT"
   ]
  },
  {
   "cell_type": "code",
   "execution_count": 250,
   "metadata": {},
   "outputs": [
    {
     "data": {
      "text/plain": [
       "array(['< 1 year', '4 years', '10+ years', '3 years', '5 years',\n",
       "       '7 years', '2 years', '1 year', '6 years', '9 years', '8 years'],\n",
       "      dtype=object)"
      ]
     },
     "execution_count": 250,
     "metadata": {},
     "output_type": "execute_result"
    }
   ],
   "source": [
    "df.emp_length.unique()"
   ]
  },
  {
   "cell_type": "code",
   "execution_count": 251,
   "metadata": {},
   "outputs": [
    {
     "data": {
      "text/plain": [
       "0         0\n",
       "1         4\n",
       "2         4\n",
       "3        10\n",
       "4        10\n",
       "         ..\n",
       "38475     3\n",
       "38476     9\n",
       "38477    10\n",
       "38478     1\n",
       "38479     7\n",
       "Name: employment_length, Length: 37359, dtype: int64"
      ]
     },
     "execution_count": 251,
     "metadata": {},
     "output_type": "execute_result"
    }
   ],
   "source": [
    "\n",
    "# Define a dictionary to map emp_length values to integers\n",
    "emp_length_mapping = {\n",
    "    '< 1 year': 0,\n",
    "    '1 year': 1,\n",
    "    '2 years': 2,\n",
    "    '3 years': 3,\n",
    "    '4 years': 4,\n",
    "    '5 years': 5,\n",
    "    '6 years': 6,\n",
    "    '7 years': 7,\n",
    "    '8 years': 8,\n",
    "    '9 years': 9,\n",
    "    '10+ years': 10\n",
    "}\n",
    "# Map the values and create the 'employment_length' column\n",
    "df['employment_length'] = df['emp_length'].map(emp_length_mapping)\n",
    "df['employment_length']"
   ]
  },
  {
   "cell_type": "code",
   "execution_count": 252,
   "metadata": {},
   "outputs": [],
   "source": [
    "#Loan-to-Income Ratio (LTI): \n",
    "#Calculate the ratio of 'loan_amnt' to 'annual_inc' to understand the loan's affordability for borrowers.\n",
    "df['loan_to_income_ratio'] =  ((df['loan_amnt'] / df['annual_inc']) * 100).round()\n",
    "df['loan_to_income_ratio'] = df['loan_to_income_ratio'].fillna(0)\n",
    "# df['loan_to_income_ratio']"
   ]
  },
  {
   "cell_type": "code",
   "execution_count": 253,
   "metadata": {},
   "outputs": [],
   "source": [
    "#Loan Utilization: Calculate the ratio of 'loan_amnt' \n",
    "# to the credit line or revolving credit available ('revol_bal') \n",
    "# to measure how much of the available credit is being used.\n",
    "\n",
    "df['loan_utilization'] = ((df['loan_amnt'] / df['revol_bal']) * 100).round(0)\n",
    "df['loan_utilization'] = df['loan_utilization'].fillna(0)\n",
    "# df['loan_utilization']"
   ]
  },
  {
   "cell_type": "code",
   "execution_count": 258,
   "metadata": {},
   "outputs": [],
   "source": [
    "# df.head(3)"
   ]
  },
  {
   "cell_type": "code",
   "execution_count": 255,
   "metadata": {},
   "outputs": [],
   "source": [
    "# Create the 'loan_term_binary' column with default values\n",
    "df['loan_term_binary'] = 'short-term'\n",
    "\n",
    "# Update 'loan_term_binary' based on the 'term' column\n",
    "df.loc[df['term'] == '60 months', 'loan_term_binary'] = 'long-term'\n",
    "# df['loan_term_binary']"
   ]
  },
  {
   "cell_type": "code",
   "execution_count": null,
   "metadata": {},
   "outputs": [],
   "source": []
  },
  {
   "cell_type": "code",
   "execution_count": null,
   "metadata": {},
   "outputs": [],
   "source": []
  },
  {
   "cell_type": "code",
   "execution_count": null,
   "metadata": {},
   "outputs": [],
   "source": []
  },
  {
   "cell_type": "code",
   "execution_count": null,
   "metadata": {},
   "outputs": [],
   "source": []
  },
  {
   "cell_type": "code",
   "execution_count": 256,
   "metadata": {},
   "outputs": [
    {
     "data": {
      "text/plain": [
       "Index(['Unnamed: 0', 'id', 'member_id', 'loan_amnt', 'funded_amnt',\n",
       "       'funded_amnt_inv', 'term', 'int_rate', 'installment', 'emp_length',\n",
       "       'home_ownership', 'annual_inc', 'verification_status', 'issue_d',\n",
       "       'loan_status', 'purpose', 'zip_code', 'addr_state', 'dti',\n",
       "       'delinq_2yrs', 'earliest_cr_line', 'inq_last_6mths', 'open_acc',\n",
       "       'pub_rec', 'revol_bal', 'revol_util', 'total_acc', 'total_pymnt',\n",
       "       'total_pymnt_inv', 'total_rec_prncp', 'total_rec_int', 'last_pymnt_d',\n",
       "       'last_pymnt_amnt', 'last_credit_pull_d', 'repay_fail',\n",
       "       'employment_length', 'loan_to_income_ratio', 'loan_utilization',\n",
       "       'loan_term_binary'],\n",
       "      dtype='object')"
      ]
     },
     "execution_count": 256,
     "metadata": {},
     "output_type": "execute_result"
    }
   ],
   "source": [
    "df.columns"
   ]
  },
  {
   "cell_type": "code",
   "execution_count": null,
   "metadata": {},
   "outputs": [],
   "source": []
  },
  {
   "cell_type": "code",
   "execution_count": null,
   "metadata": {},
   "outputs": [],
   "source": []
  },
  {
   "cell_type": "markdown",
   "metadata": {},
   "source": [
    "## EXPLORATORY DATA ANALYSIS\n",
    "### UNIVARIATE ANALYSIS"
   ]
  },
  {
   "cell_type": "code",
   "execution_count": 257,
   "metadata": {},
   "outputs": [
    {
     "ename": "ValueError",
     "evalue": "supplied range of [0.0, inf] is not finite",
     "output_type": "error",
     "traceback": [
      "\u001b[1;31m---------------------------------------------------------------------------\u001b[0m",
      "\u001b[1;31mValueError\u001b[0m                                Traceback (most recent call last)",
      "\u001b[1;32mc:\\Users\\HomePC\\Documents\\Github Projects\\loan-default-EDA\\index.ipynb Cell 66\u001b[0m line \u001b[0;36m3\n\u001b[0;32m      <a href='vscode-notebook-cell:/c%3A/Users/HomePC/Documents/Github%20Projects/loan-default-EDA/index.ipynb#Y101sZmlsZQ%3D%3D?line=0'>1</a>\u001b[0m \u001b[39m# plotting histograms to visualize patterns in the data\u001b[39;00m\n\u001b[1;32m----> <a href='vscode-notebook-cell:/c%3A/Users/HomePC/Documents/Github%20Projects/loan-default-EDA/index.ipynb#Y101sZmlsZQ%3D%3D?line=2'>3</a>\u001b[0m df\u001b[39m.\u001b[39;49mhist(figsize \u001b[39m=\u001b[39;49m (\u001b[39m20\u001b[39;49m,\u001b[39m10\u001b[39;49m), bins\u001b[39m=\u001b[39;49m \u001b[39m20\u001b[39;49m)\n\u001b[0;32m      <a href='vscode-notebook-cell:/c%3A/Users/HomePC/Documents/Github%20Projects/loan-default-EDA/index.ipynb#Y101sZmlsZQ%3D%3D?line=3'>4</a>\u001b[0m plt\u001b[39m.\u001b[39mtight_layout()\n\u001b[0;32m      <a href='vscode-notebook-cell:/c%3A/Users/HomePC/Documents/Github%20Projects/loan-default-EDA/index.ipynb#Y101sZmlsZQ%3D%3D?line=4'>5</a>\u001b[0m plt\u001b[39m.\u001b[39mshow()\n",
      "File \u001b[1;32mc:\\Users\\HomePC\\AppData\\Local\\Programs\\Python\\Python311\\Lib\\site-packages\\pandas\\plotting\\_core.py:223\u001b[0m, in \u001b[0;36mhist_frame\u001b[1;34m(data, column, by, grid, xlabelsize, xrot, ylabelsize, yrot, ax, sharex, sharey, figsize, layout, bins, backend, legend, **kwargs)\u001b[0m\n\u001b[0;32m    134\u001b[0m \u001b[39m\u001b[39m\u001b[39m\"\"\"\u001b[39;00m\n\u001b[0;32m    135\u001b[0m \u001b[39mMake a histogram of the DataFrame's columns.\u001b[39;00m\n\u001b[0;32m    136\u001b[0m \n\u001b[1;32m   (...)\u001b[0m\n\u001b[0;32m    220\u001b[0m \u001b[39m    >>> hist = df.hist(bins=3)\u001b[39;00m\n\u001b[0;32m    221\u001b[0m \u001b[39m\"\"\"\u001b[39;00m\n\u001b[0;32m    222\u001b[0m plot_backend \u001b[39m=\u001b[39m _get_plot_backend(backend)\n\u001b[1;32m--> 223\u001b[0m \u001b[39mreturn\u001b[39;00m plot_backend\u001b[39m.\u001b[39;49mhist_frame(\n\u001b[0;32m    224\u001b[0m     data,\n\u001b[0;32m    225\u001b[0m     column\u001b[39m=\u001b[39;49mcolumn,\n\u001b[0;32m    226\u001b[0m     by\u001b[39m=\u001b[39;49mby,\n\u001b[0;32m    227\u001b[0m     grid\u001b[39m=\u001b[39;49mgrid,\n\u001b[0;32m    228\u001b[0m     xlabelsize\u001b[39m=\u001b[39;49mxlabelsize,\n\u001b[0;32m    229\u001b[0m     xrot\u001b[39m=\u001b[39;49mxrot,\n\u001b[0;32m    230\u001b[0m     ylabelsize\u001b[39m=\u001b[39;49mylabelsize,\n\u001b[0;32m    231\u001b[0m     yrot\u001b[39m=\u001b[39;49myrot,\n\u001b[0;32m    232\u001b[0m     ax\u001b[39m=\u001b[39;49max,\n\u001b[0;32m    233\u001b[0m     sharex\u001b[39m=\u001b[39;49msharex,\n\u001b[0;32m    234\u001b[0m     sharey\u001b[39m=\u001b[39;49msharey,\n\u001b[0;32m    235\u001b[0m     figsize\u001b[39m=\u001b[39;49mfigsize,\n\u001b[0;32m    236\u001b[0m     layout\u001b[39m=\u001b[39;49mlayout,\n\u001b[0;32m    237\u001b[0m     legend\u001b[39m=\u001b[39;49mlegend,\n\u001b[0;32m    238\u001b[0m     bins\u001b[39m=\u001b[39;49mbins,\n\u001b[0;32m    239\u001b[0m     \u001b[39m*\u001b[39;49m\u001b[39m*\u001b[39;49mkwargs,\n\u001b[0;32m    240\u001b[0m )\n",
      "File \u001b[1;32mc:\\Users\\HomePC\\AppData\\Local\\Programs\\Python\\Python311\\Lib\\site-packages\\pandas\\plotting\\_matplotlib\\hist.py:535\u001b[0m, in \u001b[0;36mhist_frame\u001b[1;34m(data, column, by, grid, xlabelsize, xrot, ylabelsize, yrot, ax, sharex, sharey, figsize, layout, bins, legend, **kwds)\u001b[0m\n\u001b[0;32m    533\u001b[0m \u001b[39mif\u001b[39;00m legend \u001b[39mand\u001b[39;00m can_set_label:\n\u001b[0;32m    534\u001b[0m     kwds[\u001b[39m\"\u001b[39m\u001b[39mlabel\u001b[39m\u001b[39m\"\u001b[39m] \u001b[39m=\u001b[39m col\n\u001b[1;32m--> 535\u001b[0m ax\u001b[39m.\u001b[39;49mhist(data[col]\u001b[39m.\u001b[39;49mdropna()\u001b[39m.\u001b[39;49mvalues, bins\u001b[39m=\u001b[39;49mbins, \u001b[39m*\u001b[39;49m\u001b[39m*\u001b[39;49mkwds)\n\u001b[0;32m    536\u001b[0m ax\u001b[39m.\u001b[39mset_title(col)\n\u001b[0;32m    537\u001b[0m ax\u001b[39m.\u001b[39mgrid(grid)\n",
      "File \u001b[1;32mc:\\Users\\HomePC\\AppData\\Local\\Programs\\Python\\Python311\\Lib\\site-packages\\matplotlib\\__init__.py:1461\u001b[0m, in \u001b[0;36m_preprocess_data.<locals>.inner\u001b[1;34m(ax, data, *args, **kwargs)\u001b[0m\n\u001b[0;32m   1458\u001b[0m \u001b[39m@functools\u001b[39m\u001b[39m.\u001b[39mwraps(func)\n\u001b[0;32m   1459\u001b[0m \u001b[39mdef\u001b[39;00m \u001b[39minner\u001b[39m(ax, \u001b[39m*\u001b[39margs, data\u001b[39m=\u001b[39m\u001b[39mNone\u001b[39;00m, \u001b[39m*\u001b[39m\u001b[39m*\u001b[39mkwargs):\n\u001b[0;32m   1460\u001b[0m     \u001b[39mif\u001b[39;00m data \u001b[39mis\u001b[39;00m \u001b[39mNone\u001b[39;00m:\n\u001b[1;32m-> 1461\u001b[0m         \u001b[39mreturn\u001b[39;00m func(ax, \u001b[39m*\u001b[39;49m\u001b[39mmap\u001b[39;49m(sanitize_sequence, args), \u001b[39m*\u001b[39;49m\u001b[39m*\u001b[39;49mkwargs)\n\u001b[0;32m   1463\u001b[0m     bound \u001b[39m=\u001b[39m new_sig\u001b[39m.\u001b[39mbind(ax, \u001b[39m*\u001b[39margs, \u001b[39m*\u001b[39m\u001b[39m*\u001b[39mkwargs)\n\u001b[0;32m   1464\u001b[0m     auto_label \u001b[39m=\u001b[39m (bound\u001b[39m.\u001b[39marguments\u001b[39m.\u001b[39mget(label_namer)\n\u001b[0;32m   1465\u001b[0m                   \u001b[39mor\u001b[39;00m bound\u001b[39m.\u001b[39mkwargs\u001b[39m.\u001b[39mget(label_namer))\n",
      "File \u001b[1;32mc:\\Users\\HomePC\\AppData\\Local\\Programs\\Python\\Python311\\Lib\\site-packages\\matplotlib\\axes\\_axes.py:6791\u001b[0m, in \u001b[0;36mAxes.hist\u001b[1;34m(self, x, bins, range, density, weights, cumulative, bottom, histtype, align, orientation, rwidth, log, color, label, stacked, **kwargs)\u001b[0m\n\u001b[0;32m   6787\u001b[0m \u001b[39m# Loop through datasets\u001b[39;00m\n\u001b[0;32m   6788\u001b[0m \u001b[39mfor\u001b[39;00m i \u001b[39min\u001b[39;00m \u001b[39mrange\u001b[39m(nx):\n\u001b[0;32m   6789\u001b[0m     \u001b[39m# this will automatically overwrite bins,\u001b[39;00m\n\u001b[0;32m   6790\u001b[0m     \u001b[39m# so that each histogram uses the same bins\u001b[39;00m\n\u001b[1;32m-> 6791\u001b[0m     m, bins \u001b[39m=\u001b[39m np\u001b[39m.\u001b[39;49mhistogram(x[i], bins, weights\u001b[39m=\u001b[39;49mw[i], \u001b[39m*\u001b[39;49m\u001b[39m*\u001b[39;49mhist_kwargs)\n\u001b[0;32m   6792\u001b[0m     tops\u001b[39m.\u001b[39mappend(m)\n\u001b[0;32m   6793\u001b[0m tops \u001b[39m=\u001b[39m np\u001b[39m.\u001b[39marray(tops, \u001b[39mfloat\u001b[39m)  \u001b[39m# causes problems later if it's an int\u001b[39;00m\n",
      "File \u001b[1;32mc:\\Users\\HomePC\\AppData\\Local\\Programs\\Python\\Python311\\Lib\\site-packages\\numpy\\lib\\histograms.py:780\u001b[0m, in \u001b[0;36mhistogram\u001b[1;34m(a, bins, range, density, weights)\u001b[0m\n\u001b[0;32m    680\u001b[0m \u001b[39m\u001b[39m\u001b[39mr\u001b[39m\u001b[39m\"\"\"\u001b[39;00m\n\u001b[0;32m    681\u001b[0m \u001b[39mCompute the histogram of a dataset.\u001b[39;00m\n\u001b[0;32m    682\u001b[0m \n\u001b[1;32m   (...)\u001b[0m\n\u001b[0;32m    776\u001b[0m \n\u001b[0;32m    777\u001b[0m \u001b[39m\"\"\"\u001b[39;00m\n\u001b[0;32m    778\u001b[0m a, weights \u001b[39m=\u001b[39m _ravel_and_check_weights(a, weights)\n\u001b[1;32m--> 780\u001b[0m bin_edges, uniform_bins \u001b[39m=\u001b[39m _get_bin_edges(a, bins, \u001b[39mrange\u001b[39;49m, weights)\n\u001b[0;32m    782\u001b[0m \u001b[39m# Histogram is an integer or a float array depending on the weights.\u001b[39;00m\n\u001b[0;32m    783\u001b[0m \u001b[39mif\u001b[39;00m weights \u001b[39mis\u001b[39;00m \u001b[39mNone\u001b[39;00m:\n",
      "File \u001b[1;32mc:\\Users\\HomePC\\AppData\\Local\\Programs\\Python\\Python311\\Lib\\site-packages\\numpy\\lib\\histograms.py:426\u001b[0m, in \u001b[0;36m_get_bin_edges\u001b[1;34m(a, bins, range, weights)\u001b[0m\n\u001b[0;32m    423\u001b[0m     \u001b[39mif\u001b[39;00m n_equal_bins \u001b[39m<\u001b[39m \u001b[39m1\u001b[39m:\n\u001b[0;32m    424\u001b[0m         \u001b[39mraise\u001b[39;00m \u001b[39mValueError\u001b[39;00m(\u001b[39m'\u001b[39m\u001b[39m`bins` must be positive, when an integer\u001b[39m\u001b[39m'\u001b[39m)\n\u001b[1;32m--> 426\u001b[0m     first_edge, last_edge \u001b[39m=\u001b[39m _get_outer_edges(a, \u001b[39mrange\u001b[39;49m)\n\u001b[0;32m    428\u001b[0m \u001b[39melif\u001b[39;00m np\u001b[39m.\u001b[39mndim(bins) \u001b[39m==\u001b[39m \u001b[39m1\u001b[39m:\n\u001b[0;32m    429\u001b[0m     bin_edges \u001b[39m=\u001b[39m np\u001b[39m.\u001b[39masarray(bins)\n",
      "File \u001b[1;32mc:\\Users\\HomePC\\AppData\\Local\\Programs\\Python\\Python311\\Lib\\site-packages\\numpy\\lib\\histograms.py:315\u001b[0m, in \u001b[0;36m_get_outer_edges\u001b[1;34m(a, range)\u001b[0m\n\u001b[0;32m    312\u001b[0m         \u001b[39mraise\u001b[39;00m \u001b[39mValueError\u001b[39;00m(\n\u001b[0;32m    313\u001b[0m             \u001b[39m'\u001b[39m\u001b[39mmax must be larger than min in range parameter.\u001b[39m\u001b[39m'\u001b[39m)\n\u001b[0;32m    314\u001b[0m     \u001b[39mif\u001b[39;00m \u001b[39mnot\u001b[39;00m (np\u001b[39m.\u001b[39misfinite(first_edge) \u001b[39mand\u001b[39;00m np\u001b[39m.\u001b[39misfinite(last_edge)):\n\u001b[1;32m--> 315\u001b[0m         \u001b[39mraise\u001b[39;00m \u001b[39mValueError\u001b[39;00m(\n\u001b[0;32m    316\u001b[0m             \u001b[39m\"\u001b[39m\u001b[39msupplied range of [\u001b[39m\u001b[39m{}\u001b[39;00m\u001b[39m, \u001b[39m\u001b[39m{}\u001b[39;00m\u001b[39m] is not finite\u001b[39m\u001b[39m\"\u001b[39m\u001b[39m.\u001b[39mformat(first_edge, last_edge))\n\u001b[0;32m    317\u001b[0m \u001b[39melif\u001b[39;00m a\u001b[39m.\u001b[39msize \u001b[39m==\u001b[39m \u001b[39m0\u001b[39m:\n\u001b[0;32m    318\u001b[0m     \u001b[39m# handle empty arrays. Can't determine range, so use 0-1.\u001b[39;00m\n\u001b[0;32m    319\u001b[0m     first_edge, last_edge \u001b[39m=\u001b[39m \u001b[39m0\u001b[39m, \u001b[39m1\u001b[39m\n",
      "\u001b[1;31mValueError\u001b[0m: supplied range of [0.0, inf] is not finite"
     ]
    },
    {
     "data": {
      "image/png": "[encoded data removed]",
      "text/plain": [
       "<Figure size 2000x1000 with 25 Axes>"
      ]
     },
     "metadata": {},
     "output_type": "display_data"
    }
   ],
   "source": [
    "# plotting histograms to visualize patterns in the data\n",
    "\n",
    "df.hist(figsize = (20,10), bins= 20)\n",
    "plt.tight_layout()\n",
    "plt.show()"
   ]
  },
  {
   "cell_type": "code",
   "execution_count": null,
   "metadata": {},
   "outputs": [],
   "source": []
  }
 ],
 "metadata": {
  "kernelspec": {
   "display_name": "Python 3",
   "language": "python",
   "name": "python3"
  },
  "language_info": {
   "codemirror_mode": {
    "name": "ipython",
    "version": 3
   },
   "file_extension": ".py",
   "mimetype": "text/x-python",
   "name": "python",
   "nbconvert_exporter": "python",
   "pygments_lexer": "ipython3",
   "version": "3.11.4"
  },
  "orig_nbformat": 4
 },
 "nbformat": 4,
 "nbformat_minor": 2
}
